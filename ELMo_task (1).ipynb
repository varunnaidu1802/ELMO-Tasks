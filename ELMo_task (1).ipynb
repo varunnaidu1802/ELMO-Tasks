{
  "nbformat": 4,
  "nbformat_minor": 0,
  "metadata": {
    "colab": {
      "name": "ELMo.txt",
      "provenance": [],
      "collapsed_sections": []
    },
    "kernelspec": {
      "name": "python3",
      "display_name": "Python 3"
    },
    "language_info": {
      "name": "python"
    }
  },
  "cells": [
    {
      "cell_type": "markdown",
      "source": [
        
      ],
      "metadata": {
        "id": "ZBh3lDjzY-65"
      }
    },
    {
      "cell_type": "markdown",
      "source": [
        "Binary Text classification using Embeddings From Language Model (ELMo)"
      ],
      "metadata": {
        "id": "eCHOhxORY-0m"
      }
    },
    {
      "cell_type": "markdown",
      "source": [
        "Importing the required Libraries for performing the task "
      ],
      "metadata": {
        "id": "lmQb5e80Y-m0"
      }
    },
    {
      "cell_type": "code",
      "execution_count": 6,
      "metadata": {
        "colab": {
          "base_uri": "https://localhost:8080/"
        },
        "id": "KGYMAUaa802i",
        "outputId": "807bfa6d-ceb1-4bf6-e000-af22458dc76f"
      },
      "outputs": [
        {
          "output_type": "stream",
          "name": "stdout",
          "text": [
            "\u001b[38;5;2m✔ Download and installation successful\u001b[0m\n",
            "You can now load the package via spacy.load('en_core_web_sm')\n"
          ]
        }
      ],
      "source": [
        "import pandas as pd\n",
        "import numpy as np\n",
        "import seaborn as sns\n",
        "\n",
        "import matplotlib.pyplot as plt\n",
        "from matplotlib.ticker import MaxNLocator\n",
        "from matplotlib import rc\n",
        "\n",
        "import spacy\n",
        "from spacy.cli.download import download\n",
        "download(model=\"en_core_web_sm\")\n",
        "\n",
        "from tqdm import tqdm\n",
        "import re\n",
        "import time\n",
        "import pickle"
      ]
    },
    {
      "cell_type": "markdown",
      "source": [
        "Uploading the Datasets in CSV Formats and Reading them "
      ],
      "metadata": {
        "id": "MbvGy-YsZgKg"
      }
    },
    {
      "cell_type": "code",
      "source": [
        "train = pd.read_csv(\"train.csv\")\n",
        "valid = pd.read_csv(\"valid.csv\")\n",
        "test = pd.read_csv(\"test.csv\")"
      ],
      "metadata": {
        "id": "1OuB_Qqv86hM"
      },
      "execution_count": 7,
      "outputs": []
    },
    {
      "cell_type": "markdown",
      "source": [
        "Concating the train and Valid Datasets "
      ],
      "metadata": {
        "id": "feQerqWKaMAF"
      }
    },
    {
      "cell_type": "code",
      "source": [
        "train = train.append(valid).reset_index(drop=True)\n"
      ],
      "metadata": {
        "id": "Pf8mraZf87aA"
      },
      "execution_count": 8,
      "outputs": []
    },
    {
      "cell_type": "code",
      "source": [
        "train.shape"
      ],
      "metadata": {
        "colab": {
          "base_uri": "https://localhost:8080/"
        },
        "id": "A9Z4w98s8_vx",
        "outputId": "8520c2b7-e10d-4ab8-97dc-ff3f0e248a1b"
      },
      "execution_count": 9,
      "outputs": [
        {
          "output_type": "execute_result",
          "data": {
            "text/plain": [
              "(13784, 2)"
            ]
          },
          "metadata": {},
          "execution_count": 9
        }
      ]
    },
    {
      "cell_type": "markdown",
      "source": [
        "These are the Intents in the Dataset train that we have "
      ],
      "metadata": {
        "id": "Hrs_7ExjaP1Y"
      }
    },
    {
      "cell_type": "code",
      "source": [
        "train.intent.value_counts()"
      ],
      "metadata": {
        "colab": {
          "base_uri": "https://localhost:8080/"
        },
        "id": "gNG5chug9Al6",
        "outputId": "37d901fc-3e21-4a04-9439-a9bd1ec68a9f"
      },
      "execution_count": 10,
      "outputs": [
        {
          "output_type": "execute_result",
          "data": {
            "text/plain": [
              "PlayMusic               2014\n",
              "GetWeather              1996\n",
              "BookRestaurant          1981\n",
              "RateBook                1976\n",
              "SearchScreeningEvent    1952\n",
              "SearchCreativeWork      1947\n",
              "AddToPlaylist           1918\n",
              "Name: intent, dtype: int64"
            ]
          },
          "metadata": {},
          "execution_count": 10
        }
      ]
    },
    {
      "cell_type": "code",
      "source": [
        "train.shape, test.shape"
      ],
      "metadata": {
        "colab": {
          "base_uri": "https://localhost:8080/"
        },
        "id": "SKXZgJpH9Dj6",
        "outputId": "195ef39f-8d76-44d3-d5db-0da00d6cce23"
      },
      "execution_count": 11,
      "outputs": [
        {
          "output_type": "execute_result",
          "data": {
            "text/plain": [
              "((13784, 2), (700, 2))"
            ]
          },
          "metadata": {},
          "execution_count": 11
        }
      ]
    },
    {
      "cell_type": "code",
      "source": [
        "train.describe()"
      ],
      "metadata": {
        "colab": {
          "base_uri": "https://localhost:8080/",
          "height": 175
        },
        "id": "7kHg3oRD9Eir",
        "outputId": "5459f9bf-cf86-45f8-8f3f-8d17a170c1c5"
      },
      "execution_count": 7,
      "outputs": [
        {
          "output_type": "execute_result",
          "data": {
            "text/plain": [
              "                    text     intent\n",
              "count              13784      13784\n",
              "unique             13543          7\n",
              "top     find movie times  PlayMusic\n",
              "freq                  13       2014"
            ],
            "text/html": [
              "\n",
              "  <div id=\"df-b3e8072d-8417-4201-91ad-8f402018f394\">\n",
              "    <div class=\"colab-df-container\">\n",
              "      <div>\n",
              "<style scoped>\n",
              "    .dataframe tbody tr th:only-of-type {\n",
              "        vertical-align: middle;\n",
              "    }\n",
              "\n",
              "    .dataframe tbody tr th {\n",
              "        vertical-align: top;\n",
              "    }\n",
              "\n",
              "    .dataframe thead th {\n",
              "        text-align: right;\n",
              "    }\n",
              "</style>\n",
              "<table border=\"1\" class=\"dataframe\">\n",
              "  <thead>\n",
              "    <tr style=\"text-align: right;\">\n",
              "      <th></th>\n",
              "      <th>text</th>\n",
              "      <th>intent</th>\n",
              "    </tr>\n",
              "  </thead>\n",
              "  <tbody>\n",
              "    <tr>\n",
              "      <th>count</th>\n",
              "      <td>13784</td>\n",
              "      <td>13784</td>\n",
              "    </tr>\n",
              "    <tr>\n",
              "      <th>unique</th>\n",
              "      <td>13543</td>\n",
              "      <td>7</td>\n",
              "    </tr>\n",
              "    <tr>\n",
              "      <th>top</th>\n",
              "      <td>find movie times</td>\n",
              "      <td>PlayMusic</td>\n",
              "    </tr>\n",
              "    <tr>\n",
              "      <th>freq</th>\n",
              "      <td>13</td>\n",
              "      <td>2014</td>\n",
              "    </tr>\n",
              "  </tbody>\n",
              "</table>\n",
              "</div>\n",
              "      <button class=\"colab-df-convert\" onclick=\"convertToInteractive('df-b3e8072d-8417-4201-91ad-8f402018f394')\"\n",
              "              title=\"Convert this dataframe to an interactive table.\"\n",
              "              style=\"display:none;\">\n",
              "        \n",
              "  <svg xmlns=\"http://www.w3.org/2000/svg\" height=\"24px\"viewBox=\"0 0 24 24\"\n",
              "       width=\"24px\">\n",
              "    <path d=\"M0 0h24v24H0V0z\" fill=\"none\"/>\n",
              "    <path d=\"M18.56 5.44l.94 2.06.94-2.06 2.06-.94-2.06-.94-.94-2.06-.94 2.06-2.06.94zm-11 1L8.5 8.5l.94-2.06 2.06-.94-2.06-.94L8.5 2.5l-.94 2.06-2.06.94zm10 10l.94 2.06.94-2.06 2.06-.94-2.06-.94-.94-2.06-.94 2.06-2.06.94z\"/><path d=\"M17.41 7.96l-1.37-1.37c-.4-.4-.92-.59-1.43-.59-.52 0-1.04.2-1.43.59L10.3 9.45l-7.72 7.72c-.78.78-.78 2.05 0 2.83L4 21.41c.39.39.9.59 1.41.59.51 0 1.02-.2 1.41-.59l7.78-7.78 2.81-2.81c.8-.78.8-2.07 0-2.86zM5.41 20L4 18.59l7.72-7.72 1.47 1.35L5.41 20z\"/>\n",
              "  </svg>\n",
              "      </button>\n",
              "      \n",
              "  <style>\n",
              "    .colab-df-container {\n",
              "      display:flex;\n",
              "      flex-wrap:wrap;\n",
              "      gap: 12px;\n",
              "    }\n",
              "\n",
              "    .colab-df-convert {\n",
              "      background-color: #E8F0FE;\n",
              "      border: none;\n",
              "      border-radius: 50%;\n",
              "      cursor: pointer;\n",
              "      display: none;\n",
              "      fill: #1967D2;\n",
              "      height: 32px;\n",
              "      padding: 0 0 0 0;\n",
              "      width: 32px;\n",
              "    }\n",
              "\n",
              "    .colab-df-convert:hover {\n",
              "      background-color: #E2EBFA;\n",
              "      box-shadow: 0px 1px 2px rgba(60, 64, 67, 0.3), 0px 1px 3px 1px rgba(60, 64, 67, 0.15);\n",
              "      fill: #174EA6;\n",
              "    }\n",
              "\n",
              "    [theme=dark] .colab-df-convert {\n",
              "      background-color: #3B4455;\n",
              "      fill: #D2E3FC;\n",
              "    }\n",
              "\n",
              "    [theme=dark] .colab-df-convert:hover {\n",
              "      background-color: #434B5C;\n",
              "      box-shadow: 0px 1px 3px 1px rgba(0, 0, 0, 0.15);\n",
              "      filter: drop-shadow(0px 1px 2px rgba(0, 0, 0, 0.3));\n",
              "      fill: #FFFFFF;\n",
              "    }\n",
              "  </style>\n",
              "\n",
              "      <script>\n",
              "        const buttonEl =\n",
              "          document.querySelector('#df-b3e8072d-8417-4201-91ad-8f402018f394 button.colab-df-convert');\n",
              "        buttonEl.style.display =\n",
              "          google.colab.kernel.accessAllowed ? 'block' : 'none';\n",
              "\n",
              "        async function convertToInteractive(key) {\n",
              "          const element = document.querySelector('#df-b3e8072d-8417-4201-91ad-8f402018f394');\n",
              "          const dataTable =\n",
              "            await google.colab.kernel.invokeFunction('convertToInteractive',\n",
              "                                                     [key], {});\n",
              "          if (!dataTable) return;\n",
              "\n",
              "          const docLinkHtml = 'Like what you see? Visit the ' +\n",
              "            '<a target=\"_blank\" href=https://colab.research.google.com/notebooks/data_table.ipynb>data table notebook</a>'\n",
              "            + ' to learn more about interactive tables.';\n",
              "          element.innerHTML = '';\n",
              "          dataTable['output_type'] = 'display_data';\n",
              "          await google.colab.output.renderOutput(dataTable, element);\n",
              "          const docLink = document.createElement('div');\n",
              "          docLink.innerHTML = docLinkHtml;\n",
              "          element.appendChild(docLink);\n",
              "        }\n",
              "      </script>\n",
              "    </div>\n",
              "  </div>\n",
              "  "
            ]
          },
          "metadata": {},
          "execution_count": 7
        }
      ]
    },
    {
      "cell_type": "code",
      "source": [
        "sns.set(rc={'figure.figsize':(14, 8)})\n",
        "sns.countplot(train.intent)"
      ],
      "metadata": {
        "colab": {
          "base_uri": "https://localhost:8080/",
          "height": 574
        },
        "id": "79W8vw-R9VlO",
        "outputId": "8edb04b9-4fec-4e5b-ffb9-3cf1e941208c"
      },
      "execution_count": 12,
      "outputs": [
        {
          "output_type": "stream",
          "name": "stderr",
          "text": [
            "/usr/local/lib/python3.7/dist-packages/seaborn/_decorators.py:43: FutureWarning: Pass the following variable as a keyword arg: x. From version 0.12, the only valid positional argument will be `data`, and passing other arguments without an explicit keyword will result in an error or misinterpretation.\n",
            "  FutureWarning\n"
          ]
        },
        {
          "output_type": "execute_result",
          "data": {
            "text/plain": [
              "<matplotlib.axes._subplots.AxesSubplot at 0x7fca7c9f7710>"
            ]
          },
          "metadata": {},
          "execution_count": 12
        },
        {
          "output_type": "display_data",
          "data": {
            "text/plain": [
              "<Figure size 1008x576 with 1 Axes>"
            ],
            "image/png": "[encoded data removed]"
          },
          "metadata": {}
        }
      ]
    },
    {
      "cell_type": "markdown",
      "source": [
        "Cleaning of the Text that has been read from the dataset and Preprocessing it "
      ],
      "metadata": {
        "id": "hrXmYfRTaa1z"
      }
    },
    {
      "cell_type": "code",
      "source": [
        "train['clean_text'] = train['text'].apply(lambda x: re.sub(r'http\\S+', '', x))\n",
        "\n",
        "test['clean_text'] = test['text'].apply(lambda x: re.sub(r'http\\S+', '', x))"
      ],
      "metadata": {
        "id": "_svJ8VTx9W3F"
      },
      "execution_count": 13,
      "outputs": []
    },
    {
      "cell_type": "code",
      "source": [
        "train"
      ],
      "metadata": {
        "colab": {
          "base_uri": "https://localhost:8080/",
          "height": 520
        },
        "id": "u_SToYC39a5v",
        "outputId": "c9fe47f4-dd61-43fe-f5c4-cc5a327b575b"
      },
      "execution_count": 10,
      "outputs": [
        {
          "output_type": "execute_result",
          "data": {
            "text/plain": [
              "                                                                          text  \\\n",
              "0                             listen to westbam alumb allergic on google music   \n",
              "1                                   add step to me to the 50 clásicos playlist   \n",
              "2      i give this current textbook a rating value of 1 and a best rating of 6   \n",
              "3                                         play the song little robin redbreast   \n",
              "4                         please add iris dement to my playlist this is selena   \n",
              "...                                                                        ...   \n",
              "13779                                is any cinema playing the spirit of youth   \n",
              "13780        what are the movie times for animated movies in the neighbourhood   \n",
              "13781                       what s the movie schedule at great escape theatres   \n",
              "13782             show the times for cheers for miss bishop at dipson theatres   \n",
              "13783                         i want to see married to the enemy 2 at a cinema   \n",
              "\n",
              "                     intent  \\\n",
              "0                 PlayMusic   \n",
              "1             AddToPlaylist   \n",
              "2                  RateBook   \n",
              "3                 PlayMusic   \n",
              "4             AddToPlaylist   \n",
              "...                     ...   \n",
              "13779  SearchScreeningEvent   \n",
              "13780  SearchScreeningEvent   \n",
              "13781  SearchScreeningEvent   \n",
              "13782  SearchScreeningEvent   \n",
              "13783  SearchScreeningEvent   \n",
              "\n",
              "                                                                    clean_text  \n",
              "0                             listen to westbam alumb allergic on google music  \n",
              "1                                   add step to me to the 50 clásicos playlist  \n",
              "2      i give this current textbook a rating value of 1 and a best rating of 6  \n",
              "3                                         play the song little robin redbreast  \n",
              "4                         please add iris dement to my playlist this is selena  \n",
              "...                                                                        ...  \n",
              "13779                                is any cinema playing the spirit of youth  \n",
              "13780        what are the movie times for animated movies in the neighbourhood  \n",
              "13781                       what s the movie schedule at great escape theatres  \n",
              "13782             show the times for cheers for miss bishop at dipson theatres  \n",
              "13783                         i want to see married to the enemy 2 at a cinema  \n",
              "\n",
              "[13784 rows x 3 columns]"
            ],
            "text/html": [
              "\n",
              "  <div id=\"df-7195a1cf-bb3c-4780-88aa-90668eda098e\">\n",
              "    <div class=\"colab-df-container\">\n",
              "      <div>\n",
              "<style scoped>\n",
              "    .dataframe tbody tr th:only-of-type {\n",
              "        vertical-align: middle;\n",
              "    }\n",
              "\n",
              "    .dataframe tbody tr th {\n",
              "        vertical-align: top;\n",
              "    }\n",
              "\n",
              "    .dataframe thead th {\n",
              "        text-align: right;\n",
              "    }\n",
              "</style>\n",
              "<table border=\"1\" class=\"dataframe\">\n",
              "  <thead>\n",
              "    <tr style=\"text-align: right;\">\n",
              "      <th></th>\n",
              "      <th>text</th>\n",
              "      <th>intent</th>\n",
              "      <th>clean_text</th>\n",
              "    </tr>\n",
              "  </thead>\n",
              "  <tbody>\n",
              "    <tr>\n",
              "      <th>0</th>\n",
              "      <td>listen to westbam alumb allergic on google music</td>\n",
              "      <td>PlayMusic</td>\n",
              "      <td>listen to westbam alumb allergic on google music</td>\n",
              "    </tr>\n",
              "    <tr>\n",
              "      <th>1</th>\n",
              "      <td>add step to me to the 50 clásicos playlist</td>\n",
              "      <td>AddToPlaylist</td>\n",
              "      <td>add step to me to the 50 clásicos playlist</td>\n",
              "    </tr>\n",
              "    <tr>\n",
              "      <th>2</th>\n",
              "      <td>i give this current textbook a rating value of 1 and a best rating of 6</td>\n",
              "      <td>RateBook</td>\n",
              "      <td>i give this current textbook a rating value of 1 and a best rating of 6</td>\n",
              "    </tr>\n",
              "    <tr>\n",
              "      <th>3</th>\n",
              "      <td>play the song little robin redbreast</td>\n",
              "      <td>PlayMusic</td>\n",
              "      <td>play the song little robin redbreast</td>\n",
              "    </tr>\n",
              "    <tr>\n",
              "      <th>4</th>\n",
              "      <td>please add iris dement to my playlist this is selena</td>\n",
              "      <td>AddToPlaylist</td>\n",
              "      <td>please add iris dement to my playlist this is selena</td>\n",
              "    </tr>\n",
              "    <tr>\n",
              "      <th>...</th>\n",
              "      <td>...</td>\n",
              "      <td>...</td>\n",
              "      <td>...</td>\n",
              "    </tr>\n",
              "    <tr>\n",
              "      <th>13779</th>\n",
              "      <td>is any cinema playing the spirit of youth</td>\n",
              "      <td>SearchScreeningEvent</td>\n",
              "      <td>is any cinema playing the spirit of youth</td>\n",
              "    </tr>\n",
              "    <tr>\n",
              "      <th>13780</th>\n",
              "      <td>what are the movie times for animated movies in the neighbourhood</td>\n",
              "      <td>SearchScreeningEvent</td>\n",
              "      <td>what are the movie times for animated movies in the neighbourhood</td>\n",
              "    </tr>\n",
              "    <tr>\n",
              "      <th>13781</th>\n",
              "      <td>what s the movie schedule at great escape theatres</td>\n",
              "      <td>SearchScreeningEvent</td>\n",
              "      <td>what s the movie schedule at great escape theatres</td>\n",
              "    </tr>\n",
              "    <tr>\n",
              "      <th>13782</th>\n",
              "      <td>show the times for cheers for miss bishop at dipson theatres</td>\n",
              "      <td>SearchScreeningEvent</td>\n",
              "      <td>show the times for cheers for miss bishop at dipson theatres</td>\n",
              "    </tr>\n",
              "    <tr>\n",
              "      <th>13783</th>\n",
              "      <td>i want to see married to the enemy 2 at a cinema</td>\n",
              "      <td>SearchScreeningEvent</td>\n",
              "      <td>i want to see married to the enemy 2 at a cinema</td>\n",
              "    </tr>\n",
              "  </tbody>\n",
              "</table>\n",
              "<p>13784 rows × 3 columns</p>\n",
              "</div>\n",
              "      <button class=\"colab-df-convert\" onclick=\"convertToInteractive('df-7195a1cf-bb3c-4780-88aa-90668eda098e')\"\n",
              "              title=\"Convert this dataframe to an interactive table.\"\n",
              "              style=\"display:none;\">\n",
              "        \n",
              "  <svg xmlns=\"http://www.w3.org/2000/svg\" height=\"24px\"viewBox=\"0 0 24 24\"\n",
              "       width=\"24px\">\n",
              "    <path d=\"M0 0h24v24H0V0z\" fill=\"none\"/>\n",
              "    <path d=\"M18.56 5.44l.94 2.06.94-2.06 2.06-.94-2.06-.94-.94-2.06-.94 2.06-2.06.94zm-11 1L8.5 8.5l.94-2.06 2.06-.94-2.06-.94L8.5 2.5l-.94 2.06-2.06.94zm10 10l.94 2.06.94-2.06 2.06-.94-2.06-.94-.94-2.06-.94 2.06-2.06.94z\"/><path d=\"M17.41 7.96l-1.37-1.37c-.4-.4-.92-.59-1.43-.59-.52 0-1.04.2-1.43.59L10.3 9.45l-7.72 7.72c-.78.78-.78 2.05 0 2.83L4 21.41c.39.39.9.59 1.41.59.51 0 1.02-.2 1.41-.59l7.78-7.78 2.81-2.81c.8-.78.8-2.07 0-2.86zM5.41 20L4 18.59l7.72-7.72 1.47 1.35L5.41 20z\"/>\n",
              "  </svg>\n",
              "      </button>\n",
              "      \n",
              "  <style>\n",
              "    .colab-df-container {\n",
              "      display:flex;\n",
              "      flex-wrap:wrap;\n",
              "      gap: 12px;\n",
              "    }\n",
              "\n",
              "    .colab-df-convert {\n",
              "      background-color: #E8F0FE;\n",
              "      border: none;\n",
              "      border-radius: 50%;\n",
              "      cursor: pointer;\n",
              "      display: none;\n",
              "      fill: #1967D2;\n",
              "      height: 32px;\n",
              "      padding: 0 0 0 0;\n",
              "      width: 32px;\n",
              "    }\n",
              "\n",
              "    .colab-df-convert:hover {\n",
              "      background-color: #E2EBFA;\n",
              "      box-shadow: 0px 1px 2px rgba(60, 64, 67, 0.3), 0px 1px 3px 1px rgba(60, 64, 67, 0.15);\n",
              "      fill: #174EA6;\n",
              "    }\n",
              "\n",
              "    [theme=dark] .colab-df-convert {\n",
              "      background-color: #3B4455;\n",
              "      fill: #D2E3FC;\n",
              "    }\n",
              "\n",
              "    [theme=dark] .colab-df-convert:hover {\n",
              "      background-color: #434B5C;\n",
              "      box-shadow: 0px 1px 3px 1px rgba(0, 0, 0, 0.15);\n",
              "      filter: drop-shadow(0px 1px 2px rgba(0, 0, 0, 0.3));\n",
              "      fill: #FFFFFF;\n",
              "    }\n",
              "  </style>\n",
              "\n",
              "      <script>\n",
              "        const buttonEl =\n",
              "          document.querySelector('#df-7195a1cf-bb3c-4780-88aa-90668eda098e button.colab-df-convert');\n",
              "        buttonEl.style.display =\n",
              "          google.colab.kernel.accessAllowed ? 'block' : 'none';\n",
              "\n",
              "        async function convertToInteractive(key) {\n",
              "          const element = document.querySelector('#df-7195a1cf-bb3c-4780-88aa-90668eda098e');\n",
              "          const dataTable =\n",
              "            await google.colab.kernel.invokeFunction('convertToInteractive',\n",
              "                                                     [key], {});\n",
              "          if (!dataTable) return;\n",
              "\n",
              "          const docLinkHtml = 'Like what you see? Visit the ' +\n",
              "            '<a target=\"_blank\" href=https://colab.research.google.com/notebooks/data_table.ipynb>data table notebook</a>'\n",
              "            + ' to learn more about interactive tables.';\n",
              "          element.innerHTML = '';\n",
              "          dataTable['output_type'] = 'display_data';\n",
              "          await google.colab.output.renderOutput(dataTable, element);\n",
              "          const docLink = document.createElement('div');\n",
              "          docLink.innerHTML = docLinkHtml;\n",
              "          element.appendChild(docLink);\n",
              "        }\n",
              "      </script>\n",
              "    </div>\n",
              "  </div>\n",
              "  "
            ]
          },
          "metadata": {},
          "execution_count": 10
        }
      ]
    },
    {
      "cell_type": "code",
      "source": [
        "test"
      ],
      "metadata": {
        "colab": {
          "base_uri": "https://localhost:8080/",
          "height": 520
        },
        "id": "EibulpVd9cv1",
        "outputId": "28dd1c65-fc7e-42bc-b965-36ab4a08e7d6"
      },
      "execution_count": 14,
      "outputs": [
        {
          "output_type": "execute_result",
          "data": {
            "text/plain": [
              "                                                                                                 text  \\\n",
              "0                                             add sabrina salerno to the grime instrumentals playlist   \n",
              "1    i want to bring four people to a place that s close to downtown that serves churrascaria cuisine   \n",
              "2                      put lindsey cardinale into my hillary clinton s women s history month playlist   \n",
              "3                                                                 will it snow in mt on june 13  2038   \n",
              "4                                                      play signe anderson chant music that is newest   \n",
              "..                                                                                                ...   \n",
              "695                                                         find a tv series called armageddon summer   \n",
              "696                                                              find politicsnation with al sharpton   \n",
              "697                                                                 rate this album 0 points out of 6   \n",
              "698                                         add leah kauffman to my uncharted 4 nathan drake playlist   \n",
              "699                                                                      rate this album two out of 6   \n",
              "\n",
              "                 intent  \\\n",
              "0         AddToPlaylist   \n",
              "1        BookRestaurant   \n",
              "2         AddToPlaylist   \n",
              "3            GetWeather   \n",
              "4             PlayMusic   \n",
              "..                  ...   \n",
              "695  SearchCreativeWork   \n",
              "696  SearchCreativeWork   \n",
              "697            RateBook   \n",
              "698       AddToPlaylist   \n",
              "699            RateBook   \n",
              "\n",
              "                                                                                           clean_text  \n",
              "0                                             add sabrina salerno to the grime instrumentals playlist  \n",
              "1    i want to bring four people to a place that s close to downtown that serves churrascaria cuisine  \n",
              "2                      put lindsey cardinale into my hillary clinton s women s history month playlist  \n",
              "3                                                                 will it snow in mt on june 13  2038  \n",
              "4                                                      play signe anderson chant music that is newest  \n",
              "..                                                                                                ...  \n",
              "695                                                         find a tv series called armageddon summer  \n",
              "696                                                              find politicsnation with al sharpton  \n",
              "697                                                                 rate this album 0 points out of 6  \n",
              "698                                         add leah kauffman to my uncharted 4 nathan drake playlist  \n",
              "699                                                                      rate this album two out of 6  \n",
              "\n",
              "[700 rows x 3 columns]"
            ],
            "text/html": [
              "\n",
              "  <div id=\"df-7798d41c-592a-4c07-bc4f-d0ca0a98da11\">\n",
              "    <div class=\"colab-df-container\">\n",
              "      <div>\n",
              "<style scoped>\n",
              "    .dataframe tbody tr th:only-of-type {\n",
              "        vertical-align: middle;\n",
              "    }\n",
              "\n",
              "    .dataframe tbody tr th {\n",
              "        vertical-align: top;\n",
              "    }\n",
              "\n",
              "    .dataframe thead th {\n",
              "        text-align: right;\n",
              "    }\n",
              "</style>\n",
              "<table border=\"1\" class=\"dataframe\">\n",
              "  <thead>\n",
              "    <tr style=\"text-align: right;\">\n",
              "      <th></th>\n",
              "      <th>text</th>\n",
              "      <th>intent</th>\n",
              "      <th>clean_text</th>\n",
              "    </tr>\n",
              "  </thead>\n",
              "  <tbody>\n",
              "    <tr>\n",
              "      <th>0</th>\n",
              "      <td>add sabrina salerno to the grime instrumentals playlist</td>\n",
              "      <td>AddToPlaylist</td>\n",
              "      <td>add sabrina salerno to the grime instrumentals playlist</td>\n",
              "    </tr>\n",
              "    <tr>\n",
              "      <th>1</th>\n",
              "      <td>i want to bring four people to a place that s close to downtown that serves churrascaria cuisine</td>\n",
              "      <td>BookRestaurant</td>\n",
              "      <td>i want to bring four people to a place that s close to downtown that serves churrascaria cuisine</td>\n",
              "    </tr>\n",
              "    <tr>\n",
              "      <th>2</th>\n",
              "      <td>put lindsey cardinale into my hillary clinton s women s history month playlist</td>\n",
              "      <td>AddToPlaylist</td>\n",
              "      <td>put lindsey cardinale into my hillary clinton s women s history month playlist</td>\n",
              "    </tr>\n",
              "    <tr>\n",
              "      <th>3</th>\n",
              "      <td>will it snow in mt on june 13  2038</td>\n",
              "      <td>GetWeather</td>\n",
              "      <td>will it snow in mt on june 13  2038</td>\n",
              "    </tr>\n",
              "    <tr>\n",
              "      <th>4</th>\n",
              "      <td>play signe anderson chant music that is newest</td>\n",
              "      <td>PlayMusic</td>\n",
              "      <td>play signe anderson chant music that is newest</td>\n",
              "    </tr>\n",
              "    <tr>\n",
              "      <th>...</th>\n",
              "      <td>...</td>\n",
              "      <td>...</td>\n",
              "      <td>...</td>\n",
              "    </tr>\n",
              "    <tr>\n",
              "      <th>695</th>\n",
              "      <td>find a tv series called armageddon summer</td>\n",
              "      <td>SearchCreativeWork</td>\n",
              "      <td>find a tv series called armageddon summer</td>\n",
              "    </tr>\n",
              "    <tr>\n",
              "      <th>696</th>\n",
              "      <td>find politicsnation with al sharpton</td>\n",
              "      <td>SearchCreativeWork</td>\n",
              "      <td>find politicsnation with al sharpton</td>\n",
              "    </tr>\n",
              "    <tr>\n",
              "      <th>697</th>\n",
              "      <td>rate this album 0 points out of 6</td>\n",
              "      <td>RateBook</td>\n",
              "      <td>rate this album 0 points out of 6</td>\n",
              "    </tr>\n",
              "    <tr>\n",
              "      <th>698</th>\n",
              "      <td>add leah kauffman to my uncharted 4 nathan drake playlist</td>\n",
              "      <td>AddToPlaylist</td>\n",
              "      <td>add leah kauffman to my uncharted 4 nathan drake playlist</td>\n",
              "    </tr>\n",
              "    <tr>\n",
              "      <th>699</th>\n",
              "      <td>rate this album two out of 6</td>\n",
              "      <td>RateBook</td>\n",
              "      <td>rate this album two out of 6</td>\n",
              "    </tr>\n",
              "  </tbody>\n",
              "</table>\n",
              "<p>700 rows × 3 columns</p>\n",
              "</div>\n",
              "      <button class=\"colab-df-convert\" onclick=\"convertToInteractive('df-7798d41c-592a-4c07-bc4f-d0ca0a98da11')\"\n",
              "              title=\"Convert this dataframe to an interactive table.\"\n",
              "              style=\"display:none;\">\n",
              "        \n",
              "  <svg xmlns=\"http://www.w3.org/2000/svg\" height=\"24px\"viewBox=\"0 0 24 24\"\n",
              "       width=\"24px\">\n",
              "    <path d=\"M0 0h24v24H0V0z\" fill=\"none\"/>\n",
              "    <path d=\"M18.56 5.44l.94 2.06.94-2.06 2.06-.94-2.06-.94-.94-2.06-.94 2.06-2.06.94zm-11 1L8.5 8.5l.94-2.06 2.06-.94-2.06-.94L8.5 2.5l-.94 2.06-2.06.94zm10 10l.94 2.06.94-2.06 2.06-.94-2.06-.94-.94-2.06-.94 2.06-2.06.94z\"/><path d=\"M17.41 7.96l-1.37-1.37c-.4-.4-.92-.59-1.43-.59-.52 0-1.04.2-1.43.59L10.3 9.45l-7.72 7.72c-.78.78-.78 2.05 0 2.83L4 21.41c.39.39.9.59 1.41.59.51 0 1.02-.2 1.41-.59l7.78-7.78 2.81-2.81c.8-.78.8-2.07 0-2.86zM5.41 20L4 18.59l7.72-7.72 1.47 1.35L5.41 20z\"/>\n",
              "  </svg>\n",
              "      </button>\n",
              "      \n",
              "  <style>\n",
              "    .colab-df-container {\n",
              "      display:flex;\n",
              "      flex-wrap:wrap;\n",
              "      gap: 12px;\n",
              "    }\n",
              "\n",
              "    .colab-df-convert {\n",
              "      background-color: #E8F0FE;\n",
              "      border: none;\n",
              "      border-radius: 50%;\n",
              "      cursor: pointer;\n",
              "      display: none;\n",
              "      fill: #1967D2;\n",
              "      height: 32px;\n",
              "      padding: 0 0 0 0;\n",
              "      width: 32px;\n",
              "    }\n",
              "\n",
              "    .colab-df-convert:hover {\n",
              "      background-color: #E2EBFA;\n",
              "      box-shadow: 0px 1px 2px rgba(60, 64, 67, 0.3), 0px 1px 3px 1px rgba(60, 64, 67, 0.15);\n",
              "      fill: #174EA6;\n",
              "    }\n",
              "\n",
              "    [theme=dark] .colab-df-convert {\n",
              "      background-color: #3B4455;\n",
              "      fill: #D2E3FC;\n",
              "    }\n",
              "\n",
              "    [theme=dark] .colab-df-convert:hover {\n",
              "      background-color: #434B5C;\n",
              "      box-shadow: 0px 1px 3px 1px rgba(0, 0, 0, 0.15);\n",
              "      filter: drop-shadow(0px 1px 2px rgba(0, 0, 0, 0.3));\n",
              "      fill: #FFFFFF;\n",
              "    }\n",
              "  </style>\n",
              "\n",
              "      <script>\n",
              "        const buttonEl =\n",
              "          document.querySelector('#df-7798d41c-592a-4c07-bc4f-d0ca0a98da11 button.colab-df-convert');\n",
              "        buttonEl.style.display =\n",
              "          google.colab.kernel.accessAllowed ? 'block' : 'none';\n",
              "\n",
              "        async function convertToInteractive(key) {\n",
              "          const element = document.querySelector('#df-7798d41c-592a-4c07-bc4f-d0ca0a98da11');\n",
              "          const dataTable =\n",
              "            await google.colab.kernel.invokeFunction('convertToInteractive',\n",
              "                                                     [key], {});\n",
              "          if (!dataTable) return;\n",
              "\n",
              "          const docLinkHtml = 'Like what you see? Visit the ' +\n",
              "            '<a target=\"_blank\" href=https://colab.research.google.com/notebooks/data_table.ipynb>data table notebook</a>'\n",
              "            + ' to learn more about interactive tables.';\n",
              "          element.innerHTML = '';\n",
              "          dataTable['output_type'] = 'display_data';\n",
              "          await google.colab.output.renderOutput(dataTable, element);\n",
              "          const docLink = document.createElement('div');\n",
              "          docLink.innerHTML = docLinkHtml;\n",
              "          element.appendChild(docLink);\n",
              "        }\n",
              "      </script>\n",
              "    </div>\n",
              "  </div>\n",
              "  "
            ]
          },
          "metadata": {},
          "execution_count": 14
        }
      ]
    },
    {
      "cell_type": "markdown",
      "source": [
        "Lemmatization: It is process of Text Normalization\n",
        "\n",
        "using spaCy Library "
      ],
      "metadata": {
        "id": "MKNMidz6bFAp"
      }
    },
    {
      "cell_type": "code",
      "source": [
        "nlp = spacy.load('en_core_web_sm', disable=['parser', 'ner'])\n",
        "\n",
        "def lemmatization(texts):\n",
        "    output = []\n",
        "    for i in texts:\n",
        "        s = [token.lemma_ for token in nlp(i)]\n",
        "        output.append(' '.join(s))\n",
        "    return output"
      ],
      "metadata": {
        "id": "SyVYuj3V9nPN"
      },
      "execution_count": 15,
      "outputs": []
    },
    {
      "cell_type": "code",
      "source": [
        "train['clean_text'] = lemmatization(train['clean_text'])\n",
        "test['clean_text'] = lemmatization(test['clean_text'])"
      ],
      "metadata": {
        "id": "CDyTcDNk_Df8"
      },
      "execution_count": 16,
      "outputs": []
    },
    {
      "cell_type": "code",
      "source": [
        "train.sample(10)"
      ],
      "metadata": {
        "colab": {
          "base_uri": "https://localhost:8080/",
          "height": 442
        },
        "id": "laITrJvP_0Ly",
        "outputId": "cfda97b8-5905-421f-c771-397b4fcb2dcb"
      },
      "execution_count": 17,
      "outputs": [
        {
          "output_type": "execute_result",
          "data": {
            "text/plain": [
              "                                                                       text  \\\n",
              "9044                find a movie house with ulterior motive that is closest   \n",
              "10135  book a reservation for louisiana fried chicken this winter in taiwan   \n",
              "4967                                         play a 2009 concerto on deezer   \n",
              "10500            add robin trower to the medieval 50 spotify picks playlist   \n",
              "787                       add the track to the comedy new releases playlist   \n",
              "12316                        add this track to winnie s post metal playlist   \n",
              "8156                    will there be a storm six weeks from now in albania   \n",
              "10018                               add stephen mcnally to confidence boost   \n",
              "12323               play the most popular twenties record from leland sklar   \n",
              "5889                                  play the greatest james yorkston song   \n",
              "\n",
              "                     intent  \\\n",
              "9044   SearchScreeningEvent   \n",
              "10135        BookRestaurant   \n",
              "4967              PlayMusic   \n",
              "10500         AddToPlaylist   \n",
              "787           AddToPlaylist   \n",
              "12316         AddToPlaylist   \n",
              "8156             GetWeather   \n",
              "10018         AddToPlaylist   \n",
              "12323             PlayMusic   \n",
              "5889              PlayMusic   \n",
              "\n",
              "                                                               clean_text  \n",
              "9044                find a movie house with ulterior motive that be close  \n",
              "10135  book a reservation for louisiana fry chicken this winter in taiwan  \n",
              "4967                                       play a 2009 concerto on deezer  \n",
              "10500           add robin trower to the medieval 50 spotify pick playlist  \n",
              "787                      add the track to the comedy new release playlist  \n",
              "12316                      add this track to winnie s post metal playlist  \n",
              "8156                   will there be a storm six week from now in albania  \n",
              "10018                             add stephen mcnally to confidence boost  \n",
              "12323               play the most popular twenty record from leland sklar  \n",
              "5889                                   play the great james yorkston song  "
            ],
            "text/html": [
              "\n",
              "  <div id=\"df-6a68ab01-22bb-4e6e-bc0c-2e2bc83b074d\">\n",
              "    <div class=\"colab-df-container\">\n",
              "      <div>\n",
              "<style scoped>\n",
              "    .dataframe tbody tr th:only-of-type {\n",
              "        vertical-align: middle;\n",
              "    }\n",
              "\n",
              "    .dataframe tbody tr th {\n",
              "        vertical-align: top;\n",
              "    }\n",
              "\n",
              "    .dataframe thead th {\n",
              "        text-align: right;\n",
              "    }\n",
              "</style>\n",
              "<table border=\"1\" class=\"dataframe\">\n",
              "  <thead>\n",
              "    <tr style=\"text-align: right;\">\n",
              "      <th></th>\n",
              "      <th>text</th>\n",
              "      <th>intent</th>\n",
              "      <th>clean_text</th>\n",
              "    </tr>\n",
              "  </thead>\n",
              "  <tbody>\n",
              "    <tr>\n",
              "      <th>9044</th>\n",
              "      <td>find a movie house with ulterior motive that is closest</td>\n",
              "      <td>SearchScreeningEvent</td>\n",
              "      <td>find a movie house with ulterior motive that be close</td>\n",
              "    </tr>\n",
              "    <tr>\n",
              "      <th>10135</th>\n",
              "      <td>book a reservation for louisiana fried chicken this winter in taiwan</td>\n",
              "      <td>BookRestaurant</td>\n",
              "      <td>book a reservation for louisiana fry chicken this winter in taiwan</td>\n",
              "    </tr>\n",
              "    <tr>\n",
              "      <th>4967</th>\n",
              "      <td>play a 2009 concerto on deezer</td>\n",
              "      <td>PlayMusic</td>\n",
              "      <td>play a 2009 concerto on deezer</td>\n",
              "    </tr>\n",
              "    <tr>\n",
              "      <th>10500</th>\n",
              "      <td>add robin trower to the medieval 50 spotify picks playlist</td>\n",
              "      <td>AddToPlaylist</td>\n",
              "      <td>add robin trower to the medieval 50 spotify pick playlist</td>\n",
              "    </tr>\n",
              "    <tr>\n",
              "      <th>787</th>\n",
              "      <td>add the track to the comedy new releases playlist</td>\n",
              "      <td>AddToPlaylist</td>\n",
              "      <td>add the track to the comedy new release playlist</td>\n",
              "    </tr>\n",
              "    <tr>\n",
              "      <th>12316</th>\n",
              "      <td>add this track to winnie s post metal playlist</td>\n",
              "      <td>AddToPlaylist</td>\n",
              "      <td>add this track to winnie s post metal playlist</td>\n",
              "    </tr>\n",
              "    <tr>\n",
              "      <th>8156</th>\n",
              "      <td>will there be a storm six weeks from now in albania</td>\n",
              "      <td>GetWeather</td>\n",
              "      <td>will there be a storm six week from now in albania</td>\n",
              "    </tr>\n",
              "    <tr>\n",
              "      <th>10018</th>\n",
              "      <td>add stephen mcnally to confidence boost</td>\n",
              "      <td>AddToPlaylist</td>\n",
              "      <td>add stephen mcnally to confidence boost</td>\n",
              "    </tr>\n",
              "    <tr>\n",
              "      <th>12323</th>\n",
              "      <td>play the most popular twenties record from leland sklar</td>\n",
              "      <td>PlayMusic</td>\n",
              "      <td>play the most popular twenty record from leland sklar</td>\n",
              "    </tr>\n",
              "    <tr>\n",
              "      <th>5889</th>\n",
              "      <td>play the greatest james yorkston song</td>\n",
              "      <td>PlayMusic</td>\n",
              "      <td>play the great james yorkston song</td>\n",
              "    </tr>\n",
              "  </tbody>\n",
              "</table>\n",
              "</div>\n",
              "      <button class=\"colab-df-convert\" onclick=\"convertToInteractive('df-6a68ab01-22bb-4e6e-bc0c-2e2bc83b074d')\"\n",
              "              title=\"Convert this dataframe to an interactive table.\"\n",
              "              style=\"display:none;\">\n",
              "        \n",
              "  <svg xmlns=\"http://www.w3.org/2000/svg\" height=\"24px\"viewBox=\"0 0 24 24\"\n",
              "       width=\"24px\">\n",
              "    <path d=\"M0 0h24v24H0V0z\" fill=\"none\"/>\n",
              "    <path d=\"M18.56 5.44l.94 2.06.94-2.06 2.06-.94-2.06-.94-.94-2.06-.94 2.06-2.06.94zm-11 1L8.5 8.5l.94-2.06 2.06-.94-2.06-.94L8.5 2.5l-.94 2.06-2.06.94zm10 10l.94 2.06.94-2.06 2.06-.94-2.06-.94-.94-2.06-.94 2.06-2.06.94z\"/><path d=\"M17.41 7.96l-1.37-1.37c-.4-.4-.92-.59-1.43-.59-.52 0-1.04.2-1.43.59L10.3 9.45l-7.72 7.72c-.78.78-.78 2.05 0 2.83L4 21.41c.39.39.9.59 1.41.59.51 0 1.02-.2 1.41-.59l7.78-7.78 2.81-2.81c.8-.78.8-2.07 0-2.86zM5.41 20L4 18.59l7.72-7.72 1.47 1.35L5.41 20z\"/>\n",
              "  </svg>\n",
              "      </button>\n",
              "      \n",
              "  <style>\n",
              "    .colab-df-container {\n",
              "      display:flex;\n",
              "      flex-wrap:wrap;\n",
              "      gap: 12px;\n",
              "    }\n",
              "\n",
              "    .colab-df-convert {\n",
              "      background-color: #E8F0FE;\n",
              "      border: none;\n",
              "      border-radius: 50%;\n",
              "      cursor: pointer;\n",
              "      display: none;\n",
              "      fill: #1967D2;\n",
              "      height: 32px;\n",
              "      padding: 0 0 0 0;\n",
              "      width: 32px;\n",
              "    }\n",
              "\n",
              "    .colab-df-convert:hover {\n",
              "      background-color: #E2EBFA;\n",
              "      box-shadow: 0px 1px 2px rgba(60, 64, 67, 0.3), 0px 1px 3px 1px rgba(60, 64, 67, 0.15);\n",
              "      fill: #174EA6;\n",
              "    }\n",
              "\n",
              "    [theme=dark] .colab-df-convert {\n",
              "      background-color: #3B4455;\n",
              "      fill: #D2E3FC;\n",
              "    }\n",
              "\n",
              "    [theme=dark] .colab-df-convert:hover {\n",
              "      background-color: #434B5C;\n",
              "      box-shadow: 0px 1px 3px 1px rgba(0, 0, 0, 0.15);\n",
              "      filter: drop-shadow(0px 1px 2px rgba(0, 0, 0, 0.3));\n",
              "      fill: #FFFFFF;\n",
              "    }\n",
              "  </style>\n",
              "\n",
              "      <script>\n",
              "        const buttonEl =\n",
              "          document.querySelector('#df-6a68ab01-22bb-4e6e-bc0c-2e2bc83b074d button.colab-df-convert');\n",
              "        buttonEl.style.display =\n",
              "          google.colab.kernel.accessAllowed ? 'block' : 'none';\n",
              "\n",
              "        async function convertToInteractive(key) {\n",
              "          const element = document.querySelector('#df-6a68ab01-22bb-4e6e-bc0c-2e2bc83b074d');\n",
              "          const dataTable =\n",
              "            await google.colab.kernel.invokeFunction('convertToInteractive',\n",
              "                                                     [key], {});\n",
              "          if (!dataTable) return;\n",
              "\n",
              "          const docLinkHtml = 'Like what you see? Visit the ' +\n",
              "            '<a target=\"_blank\" href=https://colab.research.google.com/notebooks/data_table.ipynb>data table notebook</a>'\n",
              "            + ' to learn more about interactive tables.';\n",
              "          element.innerHTML = '';\n",
              "          dataTable['output_type'] = 'display_data';\n",
              "          await google.colab.output.renderOutput(dataTable, element);\n",
              "          const docLink = document.createElement('div');\n",
              "          docLink.innerHTML = docLinkHtml;\n",
              "          element.appendChild(docLink);\n",
              "        }\n",
              "      </script>\n",
              "    </div>\n",
              "  </div>\n",
              "  "
            ]
          },
          "metadata": {},
          "execution_count": 17
        }
      ]
    },
    {
      "cell_type": "markdown",
      "source": [
        "Loading the ELMo Model via\n",
        " tensor flow hub \n"
      ],
      "metadata": {
        "id": "XyiOvvJnBmeg"
      }
    },
    {
      "cell_type": "code",
      "source": [
        "\n",
        "!pip install tensorflow-hub"
      ],
      "metadata": {
        "colab": {
          "base_uri": "https://localhost:8080/"
        },
        "id": "ita-H0GZBtYJ",
        "outputId": "07c49606-7839-4589-b7c6-66b9a5e1da65"
      },
      "execution_count": 18,
      "outputs": [
        {
          "output_type": "stream",
          "name": "stdout",
          "text": [
            "Looking in indexes: https://pypi.org/simple, https://us-python.pkg.dev/colab-wheels/public/simple/\n",
            "Requirement already satisfied: tensorflow-hub in /usr/local/lib/python3.7/dist-packages (0.12.0)\n",
            "Requirement already satisfied: numpy>=1.12.0 in /usr/local/lib/python3.7/dist-packages (from tensorflow-hub) (1.21.6)\n",
            "Requirement already satisfied: protobuf>=3.8.0 in /usr/local/lib/python3.7/dist-packages (from tensorflow-hub) (3.17.3)\n",
            "Requirement already satisfied: six>=1.9 in /usr/local/lib/python3.7/dist-packages (from protobuf>=3.8.0->tensorflow-hub) (1.15.0)\n"
          ]
        }
      ]
    },
    {
      "cell_type": "markdown",
      "source": [
        "Installing the Tensor Flow 1.15.0 Version "
      ],
      "metadata": {
        "id": "TzBF7ouabiBP"
      }
    },
    {
      "cell_type": "code",
      "source": [
        "!pip install tensorflow==1.15\n",
        "!pip3 install tensorflow_text==1.15"
      ],
      "metadata": {
        "colab": {
          "base_uri": "https://localhost:8080/"
        },
        "id": "B0N0rqYndBCE",
        "outputId": "af09536b-b637-48fb-dc18-922b8baeb251"
      },
      "execution_count": 19,
      "outputs": [
        {
          "output_type": "stream",
          "name": "stdout",
          "text": [
            "Looking in indexes: https://pypi.org/simple, https://us-python.pkg.dev/colab-wheels/public/simple/\n",
            "Requirement already satisfied: tensorflow==1.15 in /usr/local/lib/python3.7/dist-packages (1.15.0)\n",
            "Requirement already satisfied: google-pasta>=0.1.6 in /usr/local/lib/python3.7/dist-packages (from tensorflow==1.15) (0.2.0)\n",
            "Requirement already satisfied: six>=1.10.0 in /usr/local/lib/python3.7/dist-packages (from tensorflow==1.15) (1.15.0)\n",
            "Requirement already satisfied: gast==0.2.2 in /usr/local/lib/python3.7/dist-packages (from tensorflow==1.15) (0.2.2)\n",
            "Requirement already satisfied: wheel>=0.26 in /usr/local/lib/python3.7/dist-packages (from tensorflow==1.15) (0.37.1)\n",
            "Requirement already satisfied: tensorflow-estimator==1.15.1 in /usr/local/lib/python3.7/dist-packages (from tensorflow==1.15) (1.15.1)\n",
            "Requirement already satisfied: keras-preprocessing>=1.0.5 in /usr/local/lib/python3.7/dist-packages (from tensorflow==1.15) (1.1.2)\n",
            "Requirement already satisfied: wrapt>=1.11.1 in /usr/local/lib/python3.7/dist-packages (from tensorflow==1.15) (1.14.1)\n",
            "Requirement already satisfied: opt-einsum>=2.3.2 in /usr/local/lib/python3.7/dist-packages (from tensorflow==1.15) (3.3.0)\n",
            "Requirement already satisfied: keras-applications>=1.0.8 in /usr/local/lib/python3.7/dist-packages (from tensorflow==1.15) (1.0.8)\n",
            "Requirement already satisfied: protobuf>=3.6.1 in /usr/local/lib/python3.7/dist-packages (from tensorflow==1.15) (3.17.3)\n",
            "Requirement already satisfied: astor>=0.6.0 in /usr/local/lib/python3.7/dist-packages (from tensorflow==1.15) (0.8.1)\n",
            "Requirement already satisfied: numpy<2.0,>=1.16.0 in /usr/local/lib/python3.7/dist-packages (from tensorflow==1.15) (1.21.6)\n",
            "Requirement already satisfied: grpcio>=1.8.6 in /usr/local/lib/python3.7/dist-packages (from tensorflow==1.15) (1.47.0)\n",
            "Requirement already satisfied: tensorboard<1.16.0,>=1.15.0 in /usr/local/lib/python3.7/dist-packages (from tensorflow==1.15) (1.15.0)\n",
            "Requirement already satisfied: termcolor>=1.1.0 in /usr/local/lib/python3.7/dist-packages (from tensorflow==1.15) (1.1.0)\n",
            "Requirement already satisfied: absl-py>=0.7.0 in /usr/local/lib/python3.7/dist-packages (from tensorflow==1.15) (1.1.0)\n",
            "Requirement already satisfied: h5py in /usr/local/lib/python3.7/dist-packages (from keras-applications>=1.0.8->tensorflow==1.15) (3.1.0)\n",
            "Requirement already satisfied: setuptools>=41.0.0 in /usr/local/lib/python3.7/dist-packages (from tensorboard<1.16.0,>=1.15.0->tensorflow==1.15) (57.4.0)\n",
            "Requirement already satisfied: markdown>=2.6.8 in /usr/local/lib/python3.7/dist-packages (from tensorboard<1.16.0,>=1.15.0->tensorflow==1.15) (3.3.7)\n",
            "Requirement already satisfied: werkzeug>=0.11.15 in /usr/local/lib/python3.7/dist-packages (from tensorboard<1.16.0,>=1.15.0->tensorflow==1.15) (1.0.1)\n",
            "Requirement already satisfied: importlib-metadata>=4.4 in /usr/local/lib/python3.7/dist-packages (from markdown>=2.6.8->tensorboard<1.16.0,>=1.15.0->tensorflow==1.15) (4.12.0)\n",
            "Requirement already satisfied: zipp>=0.5 in /usr/local/lib/python3.7/dist-packages (from importlib-metadata>=4.4->markdown>=2.6.8->tensorboard<1.16.0,>=1.15.0->tensorflow==1.15) (3.8.0)\n",
            "Requirement already satisfied: typing-extensions>=3.6.4 in /usr/local/lib/python3.7/dist-packages (from importlib-metadata>=4.4->markdown>=2.6.8->tensorboard<1.16.0,>=1.15.0->tensorflow==1.15) (4.1.1)\n",
            "Requirement already satisfied: cached-property in /usr/local/lib/python3.7/dist-packages (from h5py->keras-applications>=1.0.8->tensorflow==1.15) (1.5.2)\n",
            "Looking in indexes: https://pypi.org/simple, https://us-python.pkg.dev/colab-wheels/public/simple/\n",
            "Requirement already satisfied: tensorflow_text==1.15 in /usr/local/lib/python3.7/dist-packages (1.15.0)\n",
            "Requirement already satisfied: tensorflow<1.16,>=1.15.0 in /usr/local/lib/python3.7/dist-packages (from tensorflow_text==1.15) (1.15.0)\n",
            "Requirement already satisfied: six>=1.10.0 in /usr/local/lib/python3.7/dist-packages (from tensorflow<1.16,>=1.15.0->tensorflow_text==1.15) (1.15.0)\n",
            "Requirement already satisfied: protobuf>=3.6.1 in /usr/local/lib/python3.7/dist-packages (from tensorflow<1.16,>=1.15.0->tensorflow_text==1.15) (3.17.3)\n",
            "Requirement already satisfied: astor>=0.6.0 in /usr/local/lib/python3.7/dist-packages (from tensorflow<1.16,>=1.15.0->tensorflow_text==1.15) (0.8.1)\n",
            "Requirement already satisfied: keras-applications>=1.0.8 in /usr/local/lib/python3.7/dist-packages (from tensorflow<1.16,>=1.15.0->tensorflow_text==1.15) (1.0.8)\n",
            "Requirement already satisfied: wheel>=0.26 in /usr/local/lib/python3.7/dist-packages (from tensorflow<1.16,>=1.15.0->tensorflow_text==1.15) (0.37.1)\n",
            "Requirement already satisfied: numpy<2.0,>=1.16.0 in /usr/local/lib/python3.7/dist-packages (from tensorflow<1.16,>=1.15.0->tensorflow_text==1.15) (1.21.6)\n",
            "Requirement already satisfied: tensorboard<1.16.0,>=1.15.0 in /usr/local/lib/python3.7/dist-packages (from tensorflow<1.16,>=1.15.0->tensorflow_text==1.15) (1.15.0)\n",
            "Requirement already satisfied: absl-py>=0.7.0 in /usr/local/lib/python3.7/dist-packages (from tensorflow<1.16,>=1.15.0->tensorflow_text==1.15) (1.1.0)\n",
            "Requirement already satisfied: keras-preprocessing>=1.0.5 in /usr/local/lib/python3.7/dist-packages (from tensorflow<1.16,>=1.15.0->tensorflow_text==1.15) (1.1.2)\n",
            "Requirement already satisfied: termcolor>=1.1.0 in /usr/local/lib/python3.7/dist-packages (from tensorflow<1.16,>=1.15.0->tensorflow_text==1.15) (1.1.0)\n",
            "Requirement already satisfied: grpcio>=1.8.6 in /usr/local/lib/python3.7/dist-packages (from tensorflow<1.16,>=1.15.0->tensorflow_text==1.15) (1.47.0)\n",
            "Requirement already satisfied: wrapt>=1.11.1 in /usr/local/lib/python3.7/dist-packages (from tensorflow<1.16,>=1.15.0->tensorflow_text==1.15) (1.14.1)\n",
            "Requirement already satisfied: tensorflow-estimator==1.15.1 in /usr/local/lib/python3.7/dist-packages (from tensorflow<1.16,>=1.15.0->tensorflow_text==1.15) (1.15.1)\n",
            "Requirement already satisfied: opt-einsum>=2.3.2 in /usr/local/lib/python3.7/dist-packages (from tensorflow<1.16,>=1.15.0->tensorflow_text==1.15) (3.3.0)\n",
            "Requirement already satisfied: gast==0.2.2 in /usr/local/lib/python3.7/dist-packages (from tensorflow<1.16,>=1.15.0->tensorflow_text==1.15) (0.2.2)\n",
            "Requirement already satisfied: google-pasta>=0.1.6 in /usr/local/lib/python3.7/dist-packages (from tensorflow<1.16,>=1.15.0->tensorflow_text==1.15) (0.2.0)\n",
            "Requirement already satisfied: h5py in /usr/local/lib/python3.7/dist-packages (from keras-applications>=1.0.8->tensorflow<1.16,>=1.15.0->tensorflow_text==1.15) (3.1.0)\n",
            "Requirement already satisfied: markdown>=2.6.8 in /usr/local/lib/python3.7/dist-packages (from tensorboard<1.16.0,>=1.15.0->tensorflow<1.16,>=1.15.0->tensorflow_text==1.15) (3.3.7)\n",
            "Requirement already satisfied: setuptools>=41.0.0 in /usr/local/lib/python3.7/dist-packages (from tensorboard<1.16.0,>=1.15.0->tensorflow<1.16,>=1.15.0->tensorflow_text==1.15) (57.4.0)\n",
            "Requirement already satisfied: werkzeug>=0.11.15 in /usr/local/lib/python3.7/dist-packages (from tensorboard<1.16.0,>=1.15.0->tensorflow<1.16,>=1.15.0->tensorflow_text==1.15) (1.0.1)\n",
            "Requirement already satisfied: importlib-metadata>=4.4 in /usr/local/lib/python3.7/dist-packages (from markdown>=2.6.8->tensorboard<1.16.0,>=1.15.0->tensorflow<1.16,>=1.15.0->tensorflow_text==1.15) (4.12.0)\n",
            "Requirement already satisfied: typing-extensions>=3.6.4 in /usr/local/lib/python3.7/dist-packages (from importlib-metadata>=4.4->markdown>=2.6.8->tensorboard<1.16.0,>=1.15.0->tensorflow<1.16,>=1.15.0->tensorflow_text==1.15) (4.1.1)\n",
            "Requirement already satisfied: zipp>=0.5 in /usr/local/lib/python3.7/dist-packages (from importlib-metadata>=4.4->markdown>=2.6.8->tensorboard<1.16.0,>=1.15.0->tensorflow<1.16,>=1.15.0->tensorflow_text==1.15) (3.8.0)\n",
            "Requirement already satisfied: cached-property in /usr/local/lib/python3.7/dist-packages (from h5py->keras-applications>=1.0.8->tensorflow<1.16,>=1.15.0->tensorflow_text==1.15) (1.5.2)\n"
          ]
        }
      ]
    },
    {
      "cell_type": "code",
      "source": [
        "import tensorflow as tf"
      ],
      "metadata": {
        "id": "c-dnsz9wEfrd"
      },
      "execution_count": 20,
      "outputs": []
    },
    {
      "cell_type": "code",
      "source": [
        "tf.__version__"
      ],
      "metadata": {
        "colab": {
          "base_uri": "https://localhost:8080/",
          "height": 35
        },
        "id": "8qricRmcoj96",
        "outputId": "c8054c23-89da-48b5-c95e-3a35eb2293f2"
      },
      "execution_count": 21,
      "outputs": [
        {
          "output_type": "execute_result",
          "data": {
            "text/plain": [
              "'1.15.0'"
            ],
            "application/vnd.google.colaboratory.intrinsic+json": {
              "type": "string"
            }
          },
          "metadata": {},
          "execution_count": 21
        }
      ]
    },
    {
      "cell_type": "code",
      "source": [
        "import tensorflow_hub as hub\n",
        "\n",
        "elmo = hub.Module(\"https://tfhub.dev/google/elmo/3\", trainable=True)"
      ],
      "metadata": {
        "id": "jycqOW2qpE74"
      },
      "execution_count": 50,
      "outputs": []
    },
    {
      "cell_type": "code",
      "source": [
        "x = [\"the cat is on the mat\", \"dogs are in the fog\"]\n",
        "\n",
        "\n",
        "embeddings = elmo(x, signature=\"default\", as_dict=True)[\"elmo\"]\n",
        "\n",
        "embeddings.shape"
      ],
      "metadata": {
        "colab": {
          "base_uri": "https://localhost:8080/"
        },
        "id": "9rpaRSX1pOfO",
        "outputId": "5f7183dc-3b29-4296-98fc-253219d25f79"
      },
      "execution_count": 51,
      "outputs": [
        {
          "output_type": "stream",
          "name": "stdout",
          "text": [
            "INFO:tensorflow:Saver not created because there are no variables in the graph to restore\n"
          ]
        },
        {
          "output_type": "stream",
          "name": "stderr",
          "text": [
            "INFO:tensorflow:Saver not created because there are no variables in the graph to restore\n"
          ]
        },
        {
          "output_type": "execute_result",
          "data": {
            "text/plain": [
              "TensorShape([Dimension(2), Dimension(6), Dimension(1024)])"
            ]
          },
          "metadata": {},
          "execution_count": 51
        }
      ]
    },
    {
      "cell_type": "code",
      "source": [
        "def elmo_vectors(x):\n",
        "  embeddings = elmo(x.tolist(), signature=\"default\", as_dict=True)[\"elmo\"]\n",
        "\n",
        "  with tf.Session() as sess:\n",
        "    sess.run(tf.global_variables_initializer())\n",
        "    sess.run(tf.tables_initializer())\n",
        "    \n",
        "    return sess.run(tf.reduce_mean(embeddings,1))"
      ],
      "metadata": {
        "id": "CsRuG4gCq0mD"
      },
      "execution_count": 24,
      "outputs": []
    },
    {
      "cell_type": "markdown",
      "source": [
        "Dividing the Text into the batches of each 100"
      ],
      "metadata": {
        "id": "SXucoLhScGnh"
      }
    },
    {
      "cell_type": "code",
      "source": [
        "list_train = [train[i:i+100] for i in range(0,train.shape[0],100)]\n",
        "list_test = [test[i:i+100] for i in range(0,test.shape[0],100)]"
      ],
      "metadata": {
        "id": "w2MRlqtmq8cb"
      },
      "execution_count": 25,
      "outputs": []
    },
    {
      "cell_type": "code",
      "source": [
        "elmo_train = [elmo_vectors(x['clean_text']) for x in list_train]\n",
        "elmo_test = [elmo_vectors(x['clean_text']) for x in list_test]"
      ],
      "metadata": {
        "id": "SrzLWLSSq9fL"
      },
      "execution_count": null,
      "outputs": []
    },
    {
      "cell_type": "code",
      "source": [
        "elmo_train_new = np.concatenate(elmo_train, axis = 0)\n",
        "elmo_test_new = np.concatenate(elmo_test, axis = 0)"
      ],
      "metadata": {
        "id": "0dNTm0u1WXbv"
      },
      "execution_count": 29,
      "outputs": []
    },
    {
      "cell_type": "code",
      "source": [
        "pickle_out = open(\"elmo_train_task1.pickle\",\"wb\")\n",
        "pickle.dump(elmo_train_new, pickle_out)\n",
        "pickle_out.close()\n",
        "\n",
        "pickle_out = open(\"elmo_test_task1.pickle\",\"wb\")\n",
        "pickle.dump(elmo_test_new, pickle_out)\n",
        "pickle_out.close()"
      ],
      "metadata": {
        "id": "Dsa7k9y5Wa-W"
      },
      "execution_count": 31,
      "outputs": []
    },
    {
      "cell_type": "code",
      "source": [
        "pickle_in = open(\"elmo_train_task1.pickle\", \"rb\")\n",
        "elmo_train_new = pickle.load(pickle_in)\n",
        "\n",
        "pickle_in = open(\"elmo_test_task1.pickle\", \"rb\")\n",
        "elmo_test_new = pickle.load(pickle_in)"
      ],
      "metadata": {
        "id": "LWp8EPOCWpVK"
      },
      "execution_count": 32,
      "outputs": []
    },
    {
      "cell_type": "code",
      "source": [
        "from sklearn.model_selection import train_test_split\n",
        "\n",
        "xtrain, xvalid, ytrain, yvalid = train_test_split(elmo_train_new, \n",
        "                                                  train['intent'],  \n",
        "                                                  random_state=42, \n",
        "                                                  test_size=0.2)"
      ],
      "metadata": {
        "id": "2W8qMi26Wya7"
      },
      "execution_count": 34,
      "outputs": []
    },
    {
      "cell_type": "code",
      "source": [
        "from sklearn.model_selection import train_test_split\n",
        "\n",
        "xtest, xvalid, ytest, yvalid = train_test_split(elmo_test_new, \n",
        "                                                  test['intent'],  \n",
        "                                                  random_state=42, \n",
        "                                                  test_size=0.2)"
      ],
      "metadata": {
        "id": "GkWn-qc7eZ-U"
      },
      "execution_count": 54,
      "outputs": []
    },
    {
      "cell_type": "markdown",
      "source": [
        "As we need to compare the results we shall create a model using logistic Regression "
      ],
      "metadata": {
        "id": "YKnyq5UJcxDV"
      }
    },
    {
      "cell_type": "code",
      "source": [
        "from sklearn.linear_model import LogisticRegression\n",
        "from sklearn.metrics import f1_score\n",
        "\n",
        "lreg = LogisticRegression()\n",
        "lreg.fit(xtrain, ytrain)\n",
        "lreg.fit(xtest, ytest)"
      ],
      "metadata": {
        "id": "TWfdbk6mW5TE"
      },
      "execution_count": null,
      "outputs": []
    },
    {
      "cell_type": "code",
      "source": [
        "preds_valid = lreg.predict(xvalid)"
      ],
      "metadata": {
        "id": "0P1pFlpKXDjV"
      },
      "execution_count": 56,
      "outputs": []
    },
    {
      "cell_type": "code",
      "source": [
        "f1_score(yvalid, preds_valid, average='micro')"
      ],
      "metadata": {
        "colab": {
          "base_uri": "https://localhost:8080/"
        },
        "id": "Hc36EioDXLiL",
        "outputId": "3a458017-ccf2-4c4f-e973-d6fe44e402e1"
      },
      "execution_count": 64,
      "outputs": [
        {
          "output_type": "execute_result",
          "data": {
            "text/plain": [
              "0.9714285714285714"
            ]
          },
          "metadata": {},
          "execution_count": 64
        }
      ]
    },
    {
      "cell_type": "code",
      "source": [
        "preds_test = lreg.predict(elmo_test_new)"
      ],
      "metadata": {
        "id": "DsKPyEBYX7vp"
      },
      "execution_count": 63,
      "outputs": []
    },
    {
      "cell_type": "code",
      "source": [
        "sub = pd.DataFrame({'text':test['text'], 'intent':preds_test})\n",
        "\n",
        "sub.to_csv(\"sub_lreg.csv\", index=False)"
      ],
      "metadata": {
        "id": "I8Q0vwVjYBwO"
      },
      "execution_count": 62,
      "outputs": []
    }
  ]
}
